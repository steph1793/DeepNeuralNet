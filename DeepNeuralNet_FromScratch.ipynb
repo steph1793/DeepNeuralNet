{
  "nbformat": 4,
  "nbformat_minor": 0,
  "metadata": {
    "colab": {
      "name": "DeepNeuralNet_FromScratch.ipynb",
      "version": "0.3.2",
      "provenance": [],
      "include_colab_link": true
    },
    "kernelspec": {
      "name": "python3",
      "display_name": "Python 3"
    },
    "accelerator": "GPU"
  },
  "cells": [
    {
      "cell_type": "markdown",
      "metadata": {
        "id": "view-in-github",
        "colab_type": "text"
      },
      "source": [
        "[View in Colaboratory](https://colab.research.google.com/github/steph1793/DeepNeuralNet/blob/master/DeepNeuralNet_FromScratch.ipynb)"
      ]
    },
    {
      "metadata": {
        "id": "rLZYpEXGOGFk",
        "colab_type": "text"
      },
      "cell_type": "markdown",
      "source": [
        "# Deep Neural Network From Scratch"
      ]
    },
    {
      "metadata": {
        "id": "I6HJWJQaOOQi",
        "colab_type": "text"
      },
      "cell_type": "markdown",
      "source": [
        "%%html\n",
        "<img src=\"https://www.podcastscience.fm/wp-content/uploads/2015/09/Machine-Learning.jpg\" width=\"600\" >"
      ]
    },
    {
      "metadata": {
        "id": "zsgbmF2IobLK",
        "colab_type": "code",
        "colab": {}
      },
      "cell_type": "code",
      "source": [
        "import numpy as np\n",
        "import math\n",
        "import random\n",
        "\n",
        "\n",
        "import gzip\n",
        "import signal\n",
        "import matplotlib.pyplot as plt\n",
        "\n",
        "\n",
        "import tensorflow as tf # for mnist dataset\n",
        "\n",
        "from random import randint\n",
        "\n"
      ],
      "execution_count": 0,
      "outputs": []
    },
    {
      "metadata": {
        "id": "kskg-cWdCehS",
        "colab_type": "text"
      },
      "cell_type": "markdown",
      "source": [
        "## MNIST dataset importation from tensorflow keras"
      ]
    },
    {
      "metadata": {
        "id": "VOy4muLTo87K",
        "colab_type": "code",
        "colab": {}
      },
      "cell_type": "code",
      "source": [
        "mnist = tf.keras.datasets.mnist\n",
        "(train_images, train_labels),(test_images, test_labels) = mnist.load_data()\n"
      ],
      "execution_count": 0,
      "outputs": []
    },
    {
      "metadata": {
        "id": "9Ur_0-ovCn4U",
        "colab_type": "text"
      },
      "cell_type": "markdown",
      "source": [
        "### We normalize and reshape the data"
      ]
    },
    {
      "metadata": {
        "id": "cJ0aQCGVq2X5",
        "colab_type": "code",
        "colab": {}
      },
      "cell_type": "code",
      "source": [
        "train_images, test_images = train_images/255.0, test_images/255.0\n",
        "train_images = np.reshape(train_images, (-1,784))\n",
        "test_images = np.reshape(test_images, (-1, 784))"
      ],
      "execution_count": 0,
      "outputs": []
    },
    {
      "metadata": {
        "id": "wCivVTYQ2-KR",
        "colab_type": "code",
        "colab": {}
      },
      "cell_type": "code",
      "source": [
        "def batches( x,y, batch_size):\n",
        "  gather = list(zip(x,y))\n",
        "  random.shuffle(gather)\n",
        "  return [gather[i:i+batch_size] for i in range(0,len(gather),batch_size) ]"
      ],
      "execution_count": 0,
      "outputs": []
    },
    {
      "metadata": {
        "id": "-rp8YyN2Cv6Y",
        "colab_type": "text"
      },
      "cell_type": "markdown",
      "source": [
        "## Activations functions and their derivatives"
      ]
    },
    {
      "metadata": {
        "id": "C2aAL1r82pIi",
        "colab_type": "code",
        "colab": {}
      },
      "cell_type": "code",
      "source": [
        "\n",
        "def sigmoid(z):\n",
        "  return 1/(1+np.exp(-z))\n",
        "\n",
        "def sigmoid_derivative(z):\n",
        "  return sigmoid(z)*(1-sigmoid(z))"
      ],
      "execution_count": 0,
      "outputs": []
    },
    {
      "metadata": {
        "id": "EIY0Vdp6C6aG",
        "colab_type": "text"
      },
      "cell_type": "markdown",
      "source": [
        "## Regularization functions"
      ]
    },
    {
      "metadata": {
        "id": "0Sg66hws2vrW",
        "colab_type": "code",
        "colab": {}
      },
      "cell_type": "code",
      "source": [
        "def L2(eta, lambd, training_size, weights):\n",
        "  return (1 - eta*lambd /training_size)*weights\n",
        "\n",
        "def L1(eta, lambd, training_size, weights):\n",
        "  return (weights - eta*lambd/training_size*np.sign(weights))\n"
      ],
      "execution_count": 0,
      "outputs": []
    },
    {
      "metadata": {
        "id": "E7PGTFzcC_GY",
        "colab_type": "text"
      },
      "cell_type": "markdown",
      "source": [
        "## Cost functions sand their derivatives"
      ]
    },
    {
      "metadata": {
        "id": "fFmTGBiy4Osx",
        "colab_type": "code",
        "colab": {}
      },
      "cell_type": "code",
      "source": [
        "def mse_derivative(z, a,y):\n",
        "  return a-y"
      ],
      "execution_count": 0,
      "outputs": []
    },
    {
      "metadata": {
        "id": "c7xVX3j0DGni",
        "colab_type": "text"
      },
      "cell_type": "markdown",
      "source": [
        "## Simple neural network class"
      ]
    },
    {
      "metadata": {
        "id": "UbINNPWJDOpI",
        "colab_type": "text"
      },
      "cell_type": "markdown",
      "source": [
        "By default we use sigmoid function as an activation function"
      ]
    },
    {
      "metadata": {
        "id": "-hzk3wcdoeNr",
        "colab_type": "code",
        "colab": {}
      },
      "cell_type": "code",
      "source": [
        "class Network:\n",
        "\tdef __init__(self, sizes):\n",
        "\t\tself.layer_num = len(sizes)\n",
        "\t\tself.sizes = sizes ## layers sizes\n",
        "\t\tself.default_weights_initializer()\n",
        "\n",
        "\n",
        "\tdef default_weights_initializer(self):\n",
        "\t\tsizes = self.sizes\n",
        "\t\tself.weights = [ np.random.randn(sizes[i+1], sizes[i])/np.sqrt(sizes[1]) for i in range(len(sizes)-1)]\n",
        "\t\tself.biases = [np.random.randn(sizes[i]) for i in range(1, len(sizes))]\n",
        "\n",
        "\tdef large_weights_initializer(self):\n",
        "\t\tsizes = self.sizes\n",
        "\t\tself.weights = [ np.random.randn(sizes[i+1], sizes[i]) for i in range(len(sizes)-1)]\n",
        "\t\tself.biases = [np.random.randn(sizes[i]) for i in range(1, len(sizes))]\n",
        "\n",
        "\n",
        "\t\n",
        "\n",
        "\n",
        "\tdef feedforward(self, x, activation=sigmoid):\n",
        "\t\ta = x\n",
        "\t\tz_values = []\n",
        "\t\ta_values = []\n",
        "\t\ta_values.append(x)\n",
        "\t\tfor w, b in list(zip(self.weights, self.biases)):\n",
        "\t\t\tz = np.dot(w, a) + b\n",
        "\t\t\ta = activation(z)\n",
        "\t\t\ta_values.append(a)\n",
        "\t\t\tz_values.append(z)\n",
        "\t\treturn z_values, a_values\n",
        "\n",
        "\n",
        "\n",
        "\tdef test(self, x):\n",
        "\t\ta = x\n",
        "\t\tfor w,b in list(zip(self.weights, self.biases)):\n",
        "\t\t  a = sigmoid(np.dot(w,a)+b)\n",
        "\t\treturn a\n",
        "\n",
        "\n",
        "\n",
        "\tdef evaluate(self, test_data, test_labels):\n",
        "\t\tresults = [(np.argmax(self.test(x)),y) for (x,y) in list(zip(test_data, test_labels))]\n",
        "\t\treturn sum(int(x==y) for (x,y) in results)\n",
        "\n"
      ],
      "execution_count": 0,
      "outputs": []
    },
    {
      "metadata": {
        "id": "RezCXbxGDXZS",
        "colab_type": "text"
      },
      "cell_type": "markdown",
      "source": [
        "## Optimizer class"
      ]
    },
    {
      "metadata": {
        "id": "P1EoBV825VFe",
        "colab_type": "code",
        "colab": {}
      },
      "cell_type": "code",
      "source": [
        "class Optimizer:\n",
        "  def __init__(self, net):\n",
        "    self.net = net\n",
        "\n",
        "  def backpropagate(self, z_values, out_err):\n",
        "    deltas = []\n",
        "    d = out_err\n",
        "    deltas.append(d)\n",
        "    for l in range(1,self.net.layer_num-1):\n",
        "      d = np.multiply(np.dot(np.transpose(self.net.weights[-l]), d), sigmoid_derivative(z_values[-l-1]))\n",
        "      deltas.append(d)\n",
        "    return deltas\n",
        "\n",
        "\n",
        "  def gradient_descent(self, batch_deltas, batch_a_values, eta, batch_size,training_size, regular):\n",
        "    for l in range(1, self.net.layer_num):\n",
        "      delta_w = 0\n",
        "      delta_b = 0\n",
        "      for deltas, a_values in list(zip(batch_deltas, batch_a_values)):\n",
        "        d = deltas\n",
        "        a = a_values[::-1]\n",
        "        delta_w = delta_w + np.dot(np.asarray([d[l-1]]).transpose(), np.asarray([a[l]]))\n",
        "        delta_b = delta_b + d[l-1]\n",
        "      if not regular:\n",
        "        self.net.weights[-l] = self.net.weights[-l] -eta/batch_size*delta_w\n",
        "      else:\n",
        "        self.net.weights[-l] = eval(\"{0}\".format(regular[0]))(eta, regular[1], training_size, self.net.weights[-l]) - eta/batch_size*delta_w\n",
        "\n",
        "      self.net.biases[-l] = self.net.biases[-l] - eta/batch_size*delta_b\n",
        "\n",
        "\n",
        "\n",
        "  def Optimize(self, batch, eta, cost, training_size, regular):\n",
        "    batch_deltas = []\n",
        "    batch_a_values = []\n",
        "    for x,y in batch:\n",
        "      z_values, a_values = self.net.feedforward(x)\n",
        "      out_err = cost(z_values[-1], a_values[-1],y)\n",
        "      deltas = self.backpropagate(z_values, out_err)\n",
        "      batch_deltas.append(deltas)\n",
        "      batch_a_values.append(a_values)\n",
        "    self.gradient_descent(batch_deltas, batch_a_values, eta, len(batch), training_size, regular)\n",
        "\n"
      ],
      "execution_count": 0,
      "outputs": []
    },
    {
      "metadata": {
        "id": "p7ZRKucKDhX_",
        "colab_type": "text"
      },
      "cell_type": "markdown",
      "source": [
        "## Training function"
      ]
    },
    {
      "metadata": {
        "id": "TI1aJJGN8GmY",
        "colab_type": "code",
        "colab": {}
      },
      "cell_type": "code",
      "source": [
        "def train(network, optimizer, training_data, training_labels, batch_size, eta, epochs, test_data=[], test_labels=[], cost=mse_derivative, regular=[]):\n",
        "  for epoch in range(epochs):\n",
        "    bs = batches(training_data, training_labels, batch_size)\n",
        "    for mini_batch in bs:\n",
        "      optimizer.Optimize(mini_batch, eta,cost, len(training_data), regular)\n",
        "    if test_data.any() and test_labels.any() :\n",
        "                              print(\"Epoch {0} : Accuracy => {1} / {2}\".format(epoch, network.evaluate(test_data, test_labels), len(test_data) ))\n",
        "    else :\n",
        "                              print(\"Epoch {0}\".format(epoch))\n",
        "\n"
      ],
      "execution_count": 0,
      "outputs": []
    },
    {
      "metadata": {
        "id": "t6Dc1LsXDnbq",
        "colab_type": "text"
      },
      "cell_type": "markdown",
      "source": [
        "## Labels encoding (to hot vectors) and decoding (to integers)"
      ]
    },
    {
      "metadata": {
        "id": "_wWKrzZGrx3W",
        "colab_type": "code",
        "colab": {}
      },
      "cell_type": "code",
      "source": [
        "\n",
        "def encode_mnist_output(labels):\n",
        "\treturn [ [0 if i != j else 1 for i in range(10)] for j in labels]\n",
        "\n",
        "\n",
        "def decode_output(y):\n",
        "  return np.argmax(y)"
      ],
      "execution_count": 0,
      "outputs": []
    },
    {
      "metadata": {
        "id": "Y0KrHjPJEEQc",
        "colab_type": "text"
      },
      "cell_type": "markdown",
      "source": [
        "## We create network and optimizer objects"
      ]
    },
    {
      "metadata": {
        "id": "2Fja4Xs4rbyS",
        "colab_type": "code",
        "colab": {}
      },
      "cell_type": "code",
      "source": [
        "net = Network([784,100,10]) ## Here we define the number of layers and their sizes\n",
        "optimizer = Optimizer(net)"
      ],
      "execution_count": 0,
      "outputs": []
    },
    {
      "metadata": {
        "id": "VoW9EgXyIKrs",
        "colab_type": "text"
      },
      "cell_type": "markdown",
      "source": [
        "## Model training"
      ]
    },
    {
      "metadata": {
        "id": "FhRGqWYAFPHh",
        "colab_type": "code",
        "colab": {},
        "cellView": "form"
      },
      "cell_type": "code",
      "source": [
        "#@title Hyperparameters\n",
        "\n",
        "Batch_size = 100 #@param {type:\"number\"}\n",
        "learning_rate = 0.5 #@param {type:\"slider\", min:0, max:1, step:0.1}\n",
        "Epochs_num = 10 #@param {type:\"number\"}\n",
        "lambda_ = 5 #@param {type:\"slider\", min:0, max:10, step:0.1}\n",
        "Regularizer = \"L2\" #@param [\"L1\", \"L2\"]\n"
      ],
      "execution_count": 0,
      "outputs": []
    },
    {
      "metadata": {
        "id": "C_nAuDeirq4e",
        "colab_type": "code",
        "colab": {
          "base_uri": "https://localhost:8080/",
          "height": 187
        },
        "outputId": "a7583fa5-e8ba-4d49-e1dc-860f42427c42"
      },
      "cell_type": "code",
      "source": [
        "train(net, optimizer, np.asarray(train_images), encode_mnist_output(train_labels),Batch_size,learning_rate,Epochs_num, np.asarray(test_images), np.asarray(test_labels), regular=[Regularizer,lambda_])\n"
      ],
      "execution_count": 14,
      "outputs": [
        {
          "output_type": "stream",
          "text": [
            "Epoch 0 : Accuracy => 9136 / 10000\n",
            "Epoch 1 : Accuracy => 9353 / 10000\n",
            "Epoch 2 : Accuracy => 9434 / 10000\n",
            "Epoch 3 : Accuracy => 9497 / 10000\n",
            "Epoch 4 : Accuracy => 9552 / 10000\n",
            "Epoch 5 : Accuracy => 9592 / 10000\n",
            "Epoch 6 : Accuracy => 9619 / 10000\n",
            "Epoch 7 : Accuracy => 9639 / 10000\n",
            "Epoch 8 : Accuracy => 9649 / 10000\n",
            "Epoch 9 : Accuracy => 9671 / 10000\n"
          ],
          "name": "stdout"
        }
      ]
    },
    {
      "metadata": {
        "id": "kq_phzAVJK1P",
        "colab_type": "text"
      },
      "cell_type": "markdown",
      "source": [
        "## Testing the model"
      ]
    },
    {
      "metadata": {
        "id": "WGTPVhW5KR7K",
        "colab_type": "text"
      },
      "cell_type": "markdown",
      "source": [
        "We choose randomly some images in the test dataset and test them"
      ]
    },
    {
      "metadata": {
        "id": "e_U-GlCFJHuy",
        "colab_type": "code",
        "colab": {
          "base_uri": "https://localhost:8080/",
          "height": 364
        },
        "outputId": "2184d287-80bf-4c9e-8df5-e1e0a11aa6c4"
      },
      "cell_type": "code",
      "source": [
        "rand = randint(0,9999)\n",
        "im=test_images[rand]\n",
        "im = np.reshape(im, ( 28,28))\n",
        "plt.imshow(im)"
      ],
      "execution_count": 18,
      "outputs": [
        {
          "output_type": "execute_result",
          "data": {
            "text/plain": [
              "<matplotlib.image.AxesImage at 0x7ff7845af908>"
            ]
          },
          "metadata": {
            "tags": []
          },
          "execution_count": 18
        },
        {
          "output_type": "display_data",
          "data": {
            "image/png": "[encoded data removed]",
            "text/plain": [
              "<matplotlib.figure.Figure at 0x7ff7d99dc518>"
            ]
          },
          "metadata": {
            "tags": []
          }
        }
      ]
    },
    {
      "metadata": {
        "id": "4EbQQx2JvVfg",
        "colab_type": "code",
        "colab": {
          "base_uri": "https://localhost:8080/",
          "height": 51
        },
        "outputId": "8a1f0a67-0f0e-4470-8eda-249a8f57ea04"
      },
      "cell_type": "code",
      "source": [
        "im = np.reshape(im, (784))\n",
        "print(\"The decoded number\")\n",
        "print(decode_output(net.test(im)))"
      ],
      "execution_count": 19,
      "outputs": [
        {
          "output_type": "stream",
          "text": [
            "The decoded number\n",
            "5\n"
          ],
          "name": "stdout"
        }
      ]
    },
    {
      "metadata": {
        "id": "u56zvEUHPo6K",
        "colab_type": "code",
        "colab": {
          "base_uri": "https://localhost:8080/",
          "height": 83
        },
        "outputId": "d00e6bd1-4451-4151-ee09-ed4001e5ec04"
      },
      "cell_type": "code",
      "source": [
        "%%html\n",
        "<marquee style='width: 100%; color: blue; font-size:50px;'><b>That's it !!</b></marquee>"
      ],
      "execution_count": 17,
      "outputs": [
        {
          "output_type": "display_data",
          "data": {
            "text/html": [
              "<marquee style='width: 100%; color: blue; font-size:50px;'><b>That's it !!</b></marquee>"
            ],
            "text/plain": [
              "<IPython.core.display.HTML object>"
            ]
          },
          "metadata": {
            "tags": []
          }
        }
      ]
    },
    {
      "metadata": {
        "id": "WV9x_5RiPsaS",
        "colab_type": "code",
        "colab": {}
      },
      "cell_type": "code",
      "source": [
        ""
      ],
      "execution_count": 0,
      "outputs": []
    }
  ]
}